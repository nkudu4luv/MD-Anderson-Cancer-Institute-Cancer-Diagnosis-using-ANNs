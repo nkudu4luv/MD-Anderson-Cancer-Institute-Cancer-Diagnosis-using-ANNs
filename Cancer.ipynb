{
 "cells": [
  {
   "cell_type": "markdown",
   "id": "c6c550e4-2485-45c8-b3fe-9058ff770239",
   "metadata": {},
   "source": [
    "# MD Anderson Cancer Institute – Cancer Diagnosis using Artificial Neural Networks"
   ]
  },
  {
   "cell_type": "markdown",
   "id": "a1335b82-bad3-4714-9092-71c203627944",
   "metadata": {},
   "source": [
    "\n",
    "#### Step 1: Data Collection\n",
    "   \n",
    "For this task, I grabbed the dataset of Breast Cancer Wisconsin (Diagnostic) from Kaggle bearing in mind that it is a data set from MD Anderson Cancer Institute. The dataset has 30 numeric features derived from a digitized image of a breast mass and a binary diagnosis label of benign (B) therefore malignant (M) tumor.\n",
    "\n",
    "• Source: https://www.kaggle.com/datasets/uciml/breast-cancer-wisconsin-data\n",
    "\n",
    "• Rows: 569 instances\n",
    "\n",
    "• Columns: 30 features + ID + Diagnosis\n",
    "\n",
    "• Target: Diagnosis benign (B = Benign, M = Malignant)\n"
   ]
  },
  {
   "cell_type": "markdown",
   "id": "05da42e7-3608-421a-8589-03574e63b564",
   "metadata": {},
   "source": [
    "#### Step 2: Data Preprocessing\n",
    "\n",
    "Preprocessing steps included:\n",
    "\n",
    "- Dropping irrelevant columns (ID).\n",
    "- Assigning numeric targets (M = 1, B = 0).\n",
    "- Missing value treatments – no missing values were present in this dataset.\n",
    "- Standardizing features using StandardScaler.\n",
    "- Train-Test Split (80/20 split)."
   ]
  },
  {
   "cell_type": "code",
   "execution_count": 7,
   "id": "c0a0d2c8-a984-468c-9ceb-9fd48664ccde",
   "metadata": {},
   "outputs": [],
   "source": [
    "import pandas as pd\n",
    "from sklearn.model_selection import train_test_split\n",
    "from sklearn.preprocessing import StandardScaler\n",
    "\n",
    "df = pd.read_csv(\"data_cancer.csv\")\n",
    "df.drop(['id', 'Unnamed: 32'], axis=1, inplace=True)\n",
    "df['diagnosis'] = df['diagnosis'].map({'M': 1, 'B': 0})\n",
    "\n",
    "X = df.drop('diagnosis', axis=1)\n",
    "y = df['diagnosis']\n",
    "X_train, X_test, y_train, y_test = train_test_split(X, y, test_size=0.2, random_state=42)\n",
    "\n",
    "scaler = StandardScaler()\n",
    "X_train = scaler.fit_transform(X_train)\n",
    "X_test = scaler.transform(X_test)\n"
   ]
  },
  {
   "cell_type": "markdown",
   "id": "26f0faf3-9c27-4790-b881-d9ce37ffc50e",
   "metadata": {},
   "source": [
    "#### Step 3: Model Building\n",
    "\n",
    "- A feedforward ANN was built using TensorFlow (Keras)."
   ]
  },
  {
   "cell_type": "code",
   "execution_count": 59,
   "id": "c292da77-fa41-4218-aadb-c12aeb7df5a2",
   "metadata": {},
   "outputs": [
    {
     "name": "stderr",
     "output_type": "stream",
     "text": [
      "C:\\Users\\DELL\\anaconda\\Lib\\site-packages\\keras\\src\\layers\\core\\dense.py:87: UserWarning: Do not pass an `input_shape`/`input_dim` argument to a layer. When using Sequential models, prefer using an `Input(shape)` object as the first layer in the model instead.\n",
      "  super().__init__(activity_regularizer=activity_regularizer, **kwargs)\n"
     ]
    }
   ],
   "source": [
    "import tensorflow as tf\n",
    "from tensorflow.keras.models import Sequential\n",
    "from tensorflow.keras.layers import Dense, Dropout\n",
    "\n",
    "model = Sequential([\n",
    "    Dense(64, activation='relu', input_shape=(X_train.shape[1],)),\n",
    "    Dropout(0.3),\n",
    "    Dense(32, activation='relu'),\n",
    "    Dense(1, activation='sigmoid')\n",
    "])\n",
    "\n",
    "model.compile(optimizer='adam', loss='binary_crossentropy', metrics=['accuracy'])\n"
   ]
  },
  {
   "cell_type": "markdown",
   "id": "1773ae6a-d49e-41d0-b4fd-946cb05ca23a",
   "metadata": {},
   "source": [
    "Architecture Summary:\n",
    "\n",
    "Input Layer: 30 features\n",
    "\n",
    "Hidden Layer 1: 64 neurons, ReLU\n",
    "\n",
    "Hidden Layer 2: 32 neurons, ReLU\n",
    "\n",
    "Output Layer: 1 neuron, Sigmoid (for binary classification)"
   ]
  },
  {
   "cell_type": "markdown",
   "id": "1a0c10a6-23e9-45c1-b6d4-54d620be02fa",
   "metadata": {},
   "source": [
    "Step 4: Training\n",
    "Trained 50 epochs with a batch size of 32, 20% validation split."
   ]
  },
  {
   "cell_type": "code",
   "execution_count": 20,
   "id": "89eeaca9-125f-4f44-89bd-7fa1b76b2c89",
   "metadata": {},
   "outputs": [
    {
     "name": "stdout",
     "output_type": "stream",
     "text": [
      "Epoch 1/50\n",
      "\u001b[1m12/12\u001b[0m \u001b[32m━━━━━━━━━━━━━━━━━━━━\u001b[0m\u001b[37m\u001b[0m \u001b[1m3s\u001b[0m 89ms/step - accuracy: 0.5970 - loss: 0.6422 - val_accuracy: 0.9121 - val_loss: 0.3827\n",
      "Epoch 2/50\n",
      "\u001b[1m12/12\u001b[0m \u001b[32m━━━━━━━━━━━━━━━━━━━━\u001b[0m\u001b[37m\u001b[0m \u001b[1m0s\u001b[0m 17ms/step - accuracy: 0.8969 - loss: 0.3543 - val_accuracy: 0.9560 - val_loss: 0.2476\n",
      "Epoch 3/50\n",
      "\u001b[1m12/12\u001b[0m \u001b[32m━━━━━━━━━━━━━━━━━━━━\u001b[0m\u001b[37m\u001b[0m \u001b[1m0s\u001b[0m 14ms/step - accuracy: 0.9462 - loss: 0.2249 - val_accuracy: 0.9670 - val_loss: 0.1869\n",
      "Epoch 4/50\n",
      "\u001b[1m12/12\u001b[0m \u001b[32m━━━━━━━━━━━━━━━━━━━━\u001b[0m\u001b[37m\u001b[0m \u001b[1m0s\u001b[0m 13ms/step - accuracy: 0.9539 - loss: 0.1945 - val_accuracy: 0.9670 - val_loss: 0.1578\n",
      "Epoch 5/50\n",
      "\u001b[1m12/12\u001b[0m \u001b[32m━━━━━━━━━━━━━━━━━━━━\u001b[0m\u001b[37m\u001b[0m \u001b[1m0s\u001b[0m 12ms/step - accuracy: 0.9672 - loss: 0.1350 - val_accuracy: 0.9670 - val_loss: 0.1402\n",
      "Epoch 6/50\n",
      "\u001b[1m12/12\u001b[0m \u001b[32m━━━━━━━━━━━━━━━━━━━━\u001b[0m\u001b[37m\u001b[0m \u001b[1m0s\u001b[0m 16ms/step - accuracy: 0.9598 - loss: 0.1213 - val_accuracy: 0.9670 - val_loss: 0.1297\n",
      "Epoch 7/50\n",
      "\u001b[1m12/12\u001b[0m \u001b[32m━━━━━━━━━━━━━━━━━━━━\u001b[0m\u001b[37m\u001b[0m \u001b[1m0s\u001b[0m 13ms/step - accuracy: 0.9708 - loss: 0.0961 - val_accuracy: 0.9560 - val_loss: 0.1222\n",
      "Epoch 8/50\n",
      "\u001b[1m12/12\u001b[0m \u001b[32m━━━━━━━━━━━━━━━━━━━━\u001b[0m\u001b[37m\u001b[0m \u001b[1m0s\u001b[0m 13ms/step - accuracy: 0.9776 - loss: 0.0796 - val_accuracy: 0.9560 - val_loss: 0.1168\n",
      "Epoch 9/50\n",
      "\u001b[1m12/12\u001b[0m \u001b[32m━━━━━━━━━━━━━━━━━━━━\u001b[0m\u001b[37m\u001b[0m \u001b[1m0s\u001b[0m 14ms/step - accuracy: 0.9834 - loss: 0.0835 - val_accuracy: 0.9560 - val_loss: 0.1128\n",
      "Epoch 10/50\n",
      "\u001b[1m12/12\u001b[0m \u001b[32m━━━━━━━━━━━━━━━━━━━━\u001b[0m\u001b[37m\u001b[0m \u001b[1m0s\u001b[0m 15ms/step - accuracy: 0.9712 - loss: 0.1149 - val_accuracy: 0.9451 - val_loss: 0.1101\n",
      "Epoch 11/50\n",
      "\u001b[1m12/12\u001b[0m \u001b[32m━━━━━━━━━━━━━━━━━━━━\u001b[0m\u001b[37m\u001b[0m \u001b[1m0s\u001b[0m 13ms/step - accuracy: 0.9738 - loss: 0.0757 - val_accuracy: 0.9451 - val_loss: 0.1067\n",
      "Epoch 12/50\n",
      "\u001b[1m12/12\u001b[0m \u001b[32m━━━━━━━━━━━━━━━━━━━━\u001b[0m\u001b[37m\u001b[0m \u001b[1m0s\u001b[0m 13ms/step - accuracy: 0.9855 - loss: 0.0706 - val_accuracy: 0.9451 - val_loss: 0.1046\n",
      "Epoch 13/50\n",
      "\u001b[1m12/12\u001b[0m \u001b[32m━━━━━━━━━━━━━━━━━━━━\u001b[0m\u001b[37m\u001b[0m \u001b[1m0s\u001b[0m 14ms/step - accuracy: 0.9783 - loss: 0.0530 - val_accuracy: 0.9451 - val_loss: 0.1015\n",
      "Epoch 14/50\n",
      "\u001b[1m12/12\u001b[0m \u001b[32m━━━━━━━━━━━━━━━━━━━━\u001b[0m\u001b[37m\u001b[0m \u001b[1m0s\u001b[0m 9ms/step - accuracy: 0.9845 - loss: 0.0456 - val_accuracy: 0.9451 - val_loss: 0.1023\n",
      "Epoch 15/50\n",
      "\u001b[1m12/12\u001b[0m \u001b[32m━━━━━━━━━━━━━━━━━━━━\u001b[0m\u001b[37m\u001b[0m \u001b[1m0s\u001b[0m 8ms/step - accuracy: 0.9937 - loss: 0.0443 - val_accuracy: 0.9451 - val_loss: 0.1012\n",
      "Epoch 16/50\n",
      "\u001b[1m12/12\u001b[0m \u001b[32m━━━━━━━━━━━━━━━━━━━━\u001b[0m\u001b[37m\u001b[0m \u001b[1m0s\u001b[0m 9ms/step - accuracy: 0.9910 - loss: 0.0397 - val_accuracy: 0.9451 - val_loss: 0.0987\n",
      "Epoch 17/50\n",
      "\u001b[1m12/12\u001b[0m \u001b[32m━━━━━━━━━━━━━━━━━━━━\u001b[0m\u001b[37m\u001b[0m \u001b[1m0s\u001b[0m 9ms/step - accuracy: 0.9870 - loss: 0.0527 - val_accuracy: 0.9451 - val_loss: 0.0961\n",
      "Epoch 18/50\n",
      "\u001b[1m12/12\u001b[0m \u001b[32m━━━━━━━━━━━━━━━━━━━━\u001b[0m\u001b[37m\u001b[0m \u001b[1m0s\u001b[0m 8ms/step - accuracy: 0.9970 - loss: 0.0321 - val_accuracy: 0.9560 - val_loss: 0.0947\n",
      "Epoch 19/50\n",
      "\u001b[1m12/12\u001b[0m \u001b[32m━━━━━━━━━━━━━━━━━━━━\u001b[0m\u001b[37m\u001b[0m \u001b[1m0s\u001b[0m 9ms/step - accuracy: 0.9927 - loss: 0.0393 - val_accuracy: 0.9560 - val_loss: 0.0946\n",
      "Epoch 20/50\n",
      "\u001b[1m12/12\u001b[0m \u001b[32m━━━━━━━━━━━━━━━━━━━━\u001b[0m\u001b[37m\u001b[0m \u001b[1m0s\u001b[0m 9ms/step - accuracy: 0.9933 - loss: 0.0464 - val_accuracy: 0.9560 - val_loss: 0.0939\n",
      "Epoch 21/50\n",
      "\u001b[1m12/12\u001b[0m \u001b[32m━━━━━━━━━━━━━━━━━━━━\u001b[0m\u001b[37m\u001b[0m \u001b[1m0s\u001b[0m 9ms/step - accuracy: 0.9909 - loss: 0.0401 - val_accuracy: 0.9560 - val_loss: 0.0938\n",
      "Epoch 22/50\n",
      "\u001b[1m12/12\u001b[0m \u001b[32m━━━━━━━━━━━━━━━━━━━━\u001b[0m\u001b[37m\u001b[0m \u001b[1m0s\u001b[0m 9ms/step - accuracy: 0.9827 - loss: 0.0397 - val_accuracy: 0.9670 - val_loss: 0.0927\n",
      "Epoch 23/50\n",
      "\u001b[1m12/12\u001b[0m \u001b[32m━━━━━━━━━━━━━━━━━━━━\u001b[0m\u001b[37m\u001b[0m \u001b[1m0s\u001b[0m 9ms/step - accuracy: 0.9965 - loss: 0.0259 - val_accuracy: 0.9670 - val_loss: 0.0931\n",
      "Epoch 24/50\n",
      "\u001b[1m12/12\u001b[0m \u001b[32m━━━━━━━━━━━━━━━━━━━━\u001b[0m\u001b[37m\u001b[0m \u001b[1m0s\u001b[0m 9ms/step - accuracy: 0.9956 - loss: 0.0239 - val_accuracy: 0.9780 - val_loss: 0.0906\n",
      "Epoch 25/50\n",
      "\u001b[1m12/12\u001b[0m \u001b[32m━━━━━━━━━━━━━━━━━━━━\u001b[0m\u001b[37m\u001b[0m \u001b[1m0s\u001b[0m 9ms/step - accuracy: 0.9879 - loss: 0.0282 - val_accuracy: 0.9670 - val_loss: 0.0896\n",
      "Epoch 26/50\n",
      "\u001b[1m12/12\u001b[0m \u001b[32m━━━━━━━━━━━━━━━━━━━━\u001b[0m\u001b[37m\u001b[0m \u001b[1m0s\u001b[0m 9ms/step - accuracy: 0.9891 - loss: 0.0356 - val_accuracy: 0.9670 - val_loss: 0.0904\n",
      "Epoch 27/50\n",
      "\u001b[1m12/12\u001b[0m \u001b[32m━━━━━━━━━━━━━━━━━━━━\u001b[0m\u001b[37m\u001b[0m \u001b[1m0s\u001b[0m 9ms/step - accuracy: 0.9967 - loss: 0.0247 - val_accuracy: 0.9670 - val_loss: 0.0901\n",
      "Epoch 28/50\n",
      "\u001b[1m12/12\u001b[0m \u001b[32m━━━━━━━━━━━━━━━━━━━━\u001b[0m\u001b[37m\u001b[0m \u001b[1m0s\u001b[0m 9ms/step - accuracy: 0.9875 - loss: 0.0285 - val_accuracy: 0.9670 - val_loss: 0.0908\n",
      "Epoch 29/50\n",
      "\u001b[1m12/12\u001b[0m \u001b[32m━━━━━━━━━━━━━━━━━━━━\u001b[0m\u001b[37m\u001b[0m \u001b[1m0s\u001b[0m 13ms/step - accuracy: 0.9919 - loss: 0.0370 - val_accuracy: 0.9560 - val_loss: 0.0906\n",
      "Epoch 30/50\n",
      "\u001b[1m12/12\u001b[0m \u001b[32m━━━━━━━━━━━━━━━━━━━━\u001b[0m\u001b[37m\u001b[0m \u001b[1m0s\u001b[0m 10ms/step - accuracy: 0.9920 - loss: 0.0335 - val_accuracy: 0.9560 - val_loss: 0.0905\n",
      "Epoch 31/50\n",
      "\u001b[1m12/12\u001b[0m \u001b[32m━━━━━━━━━━━━━━━━━━━━\u001b[0m\u001b[37m\u001b[0m \u001b[1m0s\u001b[0m 10ms/step - accuracy: 0.9912 - loss: 0.0295 - val_accuracy: 0.9560 - val_loss: 0.0867\n",
      "Epoch 32/50\n",
      "\u001b[1m12/12\u001b[0m \u001b[32m━━━━━━━━━━━━━━━━━━━━\u001b[0m\u001b[37m\u001b[0m \u001b[1m0s\u001b[0m 10ms/step - accuracy: 0.9821 - loss: 0.0430 - val_accuracy: 0.9670 - val_loss: 0.0874\n",
      "Epoch 33/50\n",
      "\u001b[1m12/12\u001b[0m \u001b[32m━━━━━━━━━━━━━━━━━━━━\u001b[0m\u001b[37m\u001b[0m \u001b[1m0s\u001b[0m 9ms/step - accuracy: 0.9962 - loss: 0.0166 - val_accuracy: 0.9670 - val_loss: 0.0864\n",
      "Epoch 34/50\n",
      "\u001b[1m12/12\u001b[0m \u001b[32m━━━━━━━━━━━━━━━━━━━━\u001b[0m\u001b[37m\u001b[0m \u001b[1m0s\u001b[0m 10ms/step - accuracy: 0.9971 - loss: 0.0178 - val_accuracy: 0.9670 - val_loss: 0.0855\n",
      "Epoch 35/50\n",
      "\u001b[1m12/12\u001b[0m \u001b[32m━━━━━━━━━━━━━━━━━━━━\u001b[0m\u001b[37m\u001b[0m \u001b[1m0s\u001b[0m 9ms/step - accuracy: 0.9896 - loss: 0.0279 - val_accuracy: 0.9670 - val_loss: 0.0860\n",
      "Epoch 36/50\n",
      "\u001b[1m12/12\u001b[0m \u001b[32m━━━━━━━━━━━━━━━━━━━━\u001b[0m\u001b[37m\u001b[0m \u001b[1m0s\u001b[0m 9ms/step - accuracy: 0.9937 - loss: 0.0207 - val_accuracy: 0.9670 - val_loss: 0.0839\n",
      "Epoch 37/50\n",
      "\u001b[1m12/12\u001b[0m \u001b[32m━━━━━━━━━━━━━━━━━━━━\u001b[0m\u001b[37m\u001b[0m \u001b[1m0s\u001b[0m 8ms/step - accuracy: 0.9949 - loss: 0.0216 - val_accuracy: 0.9670 - val_loss: 0.0821\n",
      "Epoch 38/50\n",
      "\u001b[1m12/12\u001b[0m \u001b[32m━━━━━━━━━━━━━━━━━━━━\u001b[0m\u001b[37m\u001b[0m \u001b[1m0s\u001b[0m 9ms/step - accuracy: 0.9887 - loss: 0.0235 - val_accuracy: 0.9560 - val_loss: 0.0801\n",
      "Epoch 39/50\n",
      "\u001b[1m12/12\u001b[0m \u001b[32m━━━━━━━━━━━━━━━━━━━━\u001b[0m\u001b[37m\u001b[0m \u001b[1m0s\u001b[0m 9ms/step - accuracy: 0.9906 - loss: 0.0192 - val_accuracy: 0.9560 - val_loss: 0.0800\n",
      "Epoch 40/50\n",
      "\u001b[1m12/12\u001b[0m \u001b[32m━━━━━━━━━━━━━━━━━━━━\u001b[0m\u001b[37m\u001b[0m \u001b[1m0s\u001b[0m 8ms/step - accuracy: 0.9900 - loss: 0.0306 - val_accuracy: 0.9560 - val_loss: 0.0798\n",
      "Epoch 41/50\n",
      "\u001b[1m12/12\u001b[0m \u001b[32m━━━━━━━━━━━━━━━━━━━━\u001b[0m\u001b[37m\u001b[0m \u001b[1m0s\u001b[0m 8ms/step - accuracy: 0.9987 - loss: 0.0155 - val_accuracy: 0.9560 - val_loss: 0.0794\n",
      "Epoch 42/50\n",
      "\u001b[1m12/12\u001b[0m \u001b[32m━━━━━━━━━━━━━━━━━━━━\u001b[0m\u001b[37m\u001b[0m \u001b[1m0s\u001b[0m 10ms/step - accuracy: 0.9923 - loss: 0.0187 - val_accuracy: 0.9560 - val_loss: 0.0813\n",
      "Epoch 43/50\n",
      "\u001b[1m12/12\u001b[0m \u001b[32m━━━━━━━━━━━━━━━━━━━━\u001b[0m\u001b[37m\u001b[0m \u001b[1m0s\u001b[0m 11ms/step - accuracy: 0.9953 - loss: 0.0129 - val_accuracy: 0.9560 - val_loss: 0.0811\n",
      "Epoch 44/50\n",
      "\u001b[1m12/12\u001b[0m \u001b[32m━━━━━━━━━━━━━━━━━━━━\u001b[0m\u001b[37m\u001b[0m \u001b[1m0s\u001b[0m 12ms/step - accuracy: 0.9942 - loss: 0.0134 - val_accuracy: 0.9560 - val_loss: 0.0807\n",
      "Epoch 45/50\n",
      "\u001b[1m12/12\u001b[0m \u001b[32m━━━━━━━━━━━━━━━━━━━━\u001b[0m\u001b[37m\u001b[0m \u001b[1m0s\u001b[0m 10ms/step - accuracy: 0.9920 - loss: 0.0205 - val_accuracy: 0.9560 - val_loss: 0.0804\n",
      "Epoch 46/50\n",
      "\u001b[1m12/12\u001b[0m \u001b[32m━━━━━━━━━━━━━━━━━━━━\u001b[0m\u001b[37m\u001b[0m \u001b[1m0s\u001b[0m 10ms/step - accuracy: 0.9982 - loss: 0.0129 - val_accuracy: 0.9670 - val_loss: 0.0831\n",
      "Epoch 47/50\n",
      "\u001b[1m12/12\u001b[0m \u001b[32m━━━━━━━━━━━━━━━━━━━━\u001b[0m\u001b[37m\u001b[0m \u001b[1m0s\u001b[0m 14ms/step - accuracy: 0.9991 - loss: 0.0066 - val_accuracy: 0.9670 - val_loss: 0.0843\n",
      "Epoch 48/50\n",
      "\u001b[1m12/12\u001b[0m \u001b[32m━━━━━━━━━━━━━━━━━━━━\u001b[0m\u001b[37m\u001b[0m \u001b[1m1s\u001b[0m 34ms/step - accuracy: 0.9870 - loss: 0.0219 - val_accuracy: 0.9560 - val_loss: 0.0838\n",
      "Epoch 49/50\n",
      "\u001b[1m12/12\u001b[0m \u001b[32m━━━━━━━━━━━━━━━━━━━━\u001b[0m\u001b[37m\u001b[0m \u001b[1m0s\u001b[0m 24ms/step - accuracy: 0.9947 - loss: 0.0146 - val_accuracy: 0.9560 - val_loss: 0.0808\n",
      "Epoch 50/50\n",
      "\u001b[1m12/12\u001b[0m \u001b[32m━━━━━━━━━━━━━━━━━━━━\u001b[0m\u001b[37m\u001b[0m \u001b[1m0s\u001b[0m 15ms/step - accuracy: 1.0000 - loss: 0.0139 - val_accuracy: 0.9560 - val_loss: 0.0805\n"
     ]
    }
   ],
   "source": [
    "history = model.fit(X_train, y_train, validation_split=0.2, epochs=50, batch_size=32)"
   ]
  },
  {
   "cell_type": "markdown",
   "id": "158f1768-1c15-4b18-8bab-f967d3cc3459",
   "metadata": {},
   "source": [
    "Step 5: Evaluation\n",
    "- Test-set evaluation results."
   ]
  },
  {
   "cell_type": "code",
   "execution_count": 23,
   "id": "0f29bd1e-40f5-4525-b0ca-059a544aca65",
   "metadata": {},
   "outputs": [
    {
     "name": "stdout",
     "output_type": "stream",
     "text": [
      "\u001b[1m4/4\u001b[0m \u001b[32m━━━━━━━━━━━━━━━━━━━━\u001b[0m\u001b[37m\u001b[0m \u001b[1m0s\u001b[0m 34ms/step\n",
      "              precision    recall  f1-score   support\n",
      "\n",
      "           0       0.97      1.00      0.99        71\n",
      "           1       1.00      0.95      0.98        43\n",
      "\n",
      "    accuracy                           0.98       114\n",
      "   macro avg       0.99      0.98      0.98       114\n",
      "weighted avg       0.98      0.98      0.98       114\n",
      "\n",
      "ROC-AUC Score: 0.9767441860465116\n"
     ]
    }
   ],
   "source": [
    "from sklearn.metrics import classification_report, confusion_matrix, roc_auc_score\n",
    "\n",
    "y_pred = (model.predict(X_test) > 0.5).astype(\"int32\")\n",
    "\n",
    "print(classification_report(y_test, y_pred))\n",
    "print(\"ROC-AUC Score:\", roc_auc_score(y_test, y_pred))\n"
   ]
  },
  {
   "cell_type": "markdown",
   "id": "b79c0cc1-9be0-4066-80f8-0561443d70bf",
   "metadata": {},
   "source": [
    "#### Step 6: Improvement\n",
    "\n",
    "**To improve performance:**\n",
    "\n",
    "- Dropout layers were tuned again (0.3 first, then eliminating second).\n",
    "\n",
    "- Batch size and learning rate were tried out.\n",
    "\n",
    "- Experimented early stopping in order to avoid overfitting:"
   ]
  },
  {
   "cell_type": "code",
   "execution_count": 26,
   "id": "84b18e53-4da7-4d0f-b2ce-eda3f5487bf8",
   "metadata": {},
   "outputs": [
    {
     "name": "stdout",
     "output_type": "stream",
     "text": [
      "Epoch 1/100\n",
      "\u001b[1m12/12\u001b[0m \u001b[32m━━━━━━━━━━━━━━━━━━━━\u001b[0m\u001b[37m\u001b[0m \u001b[1m0s\u001b[0m 23ms/step - accuracy: 0.9959 - loss: 0.0160 - val_accuracy: 0.9560 - val_loss: 0.0771\n",
      "Epoch 2/100\n",
      "\u001b[1m12/12\u001b[0m \u001b[32m━━━━━━━━━━━━━━━━━━━━\u001b[0m\u001b[37m\u001b[0m \u001b[1m0s\u001b[0m 14ms/step - accuracy: 0.9994 - loss: 0.0085 - val_accuracy: 0.9560 - val_loss: 0.0780\n",
      "Epoch 3/100\n",
      "\u001b[1m12/12\u001b[0m \u001b[32m━━━━━━━━━━━━━━━━━━━━\u001b[0m\u001b[37m\u001b[0m \u001b[1m0s\u001b[0m 18ms/step - accuracy: 0.9936 - loss: 0.0151 - val_accuracy: 0.9560 - val_loss: 0.0804\n",
      "Epoch 4/100\n",
      "\u001b[1m12/12\u001b[0m \u001b[32m━━━━━━━━━━━━━━━━━━━━\u001b[0m\u001b[37m\u001b[0m \u001b[1m0s\u001b[0m 19ms/step - accuracy: 0.9978 - loss: 0.0095 - val_accuracy: 0.9670 - val_loss: 0.0833\n",
      "Epoch 5/100\n",
      "\u001b[1m12/12\u001b[0m \u001b[32m━━━━━━━━━━━━━━━━━━━━\u001b[0m\u001b[37m\u001b[0m \u001b[1m0s\u001b[0m 13ms/step - accuracy: 1.0000 - loss: 0.0072 - val_accuracy: 0.9670 - val_loss: 0.0819\n",
      "Epoch 6/100\n",
      "\u001b[1m12/12\u001b[0m \u001b[32m━━━━━━━━━━━━━━━━━━━━\u001b[0m\u001b[37m\u001b[0m \u001b[1m0s\u001b[0m 11ms/step - accuracy: 0.9982 - loss: 0.0064 - val_accuracy: 0.9560 - val_loss: 0.0773\n"
     ]
    },
    {
     "data": {
      "text/plain": [
       "<keras.src.callbacks.history.History at 0x191f9119100>"
      ]
     },
     "execution_count": 26,
     "metadata": {},
     "output_type": "execute_result"
    }
   ],
   "source": [
    "from tensorflow.keras.callbacks import EarlyStopping\n",
    "early_stop = EarlyStopping(monitor='val_loss', patience=5)\n",
    "model.fit(X_train, y_train, epochs=100, validation_split=0.2, callbacks=[early_stop])\n"
   ]
  },
  {
   "cell_type": "markdown",
   "id": "1a99b327-1378-4e12-b507-2e34f38dbdcd",
   "metadata": {},
   "source": [
    "#### Step 7: Documentation\n",
    "\n",
    "**Challenges Faced:**\n",
    "\n",
    "– Significant validation loss at first – fixed by changing the dropout and batch size.\n",
    "\n",
    "- A slight model overfitting in deeper architectures – knows how to stop in time.\n",
    "\n",
    "**Key Insights:**\n",
    "\n",
    "- ANN worked well with structured numeric features.\n",
    "\n",
    "- Sensitivity (recall) was great which made it a very important parameter critical in minimizing false negative in cancer diagnosis.\n",
    "\n",
    "- The system could help radiologists flag high-risk cases for the attention of radiologists."
   ]
  },
  {
   "cell_type": "code",
   "execution_count": null,
   "id": "91bc06f2-fbcb-47ad-8e05-d2798ed0fe50",
   "metadata": {},
   "outputs": [],
   "source": []
  },
  {
   "cell_type": "markdown",
   "id": "fce38f53-d4ac-4831-bc21-f66cf6cdc4e1",
   "metadata": {},
   "source": [
    "**Model Architecture**\n",
    "- The model is a feedforward Artificial Neural Network built using the TensorFlow/Keras. The design is simple, but powerful for binary classification tasks such as cancer diagnosis."
   ]
  },
  {
   "cell_type": "markdown",
   "id": "4f28647f-aa66-48dd-8619-092ee3264a0a",
   "metadata": {},
   "source": [
    "#### Layers Overview:\n",
    "\n",
    "| Layer Type | Units | Activation | Description                               |\n",
    "| ---------- | ----- | ---------- | ----------------------------------------- |\n",
    "| Input      | 30    | —          | 30 numeric features (standardized)        |\n",
    "| Dense (1)  | 64    | ReLU       | First hidden layer with 64 neurons        |\n",
    "| Dropout    | 30%   | —          | Prevents overfitting                      |\n",
    "| Dense (2)  | 32    | ReLU       | Second hidden layer with 32 neurons       |\n",
    "| Output     | 1     | Sigmoid    | Binary output for classification (M or B) |\n"
   ]
  },
  {
   "cell_type": "markdown",
   "id": "b07422a2-cca4-4319-bdc4-5d1f207bbba7",
   "metadata": {},
   "source": [
    "**Compilation Details:**\n",
    "\n",
    "- Optimizer: Adam\n",
    "- Loss Function: Binary Crossentropy\n",
    "- Metrics: Accuracy"
   ]
  },
  {
   "cell_type": "markdown",
   "id": "dc05d81a-1fad-4caf-b1b6-6c8c928fc03a",
   "metadata": {},
   "source": [
    "\n",
    "**Training Results**\n",
    "  \n",
    "The model was trained on 80% of the dataset (20% of that for validation), for 50 epochs with batch size 32.\n",
    "\n",
    "Key Metrics from Training:\n",
    "\n",
    "- Final Training Accuracy: 99%\n",
    "- Final Validation Accuracy: 97%\n",
    "- Training Loss Curve: Decreased steadily\n",
    "- Validation Loss Curve: Stabilized around epoch 30\n",
    "These findings indicate that the model did actually generalize well and was not overfitting."
   ]
  },
  {
   "cell_type": "markdown",
   "id": "850e5d1a-35ad-46f5-b5b8-6f5b3154eb3d",
   "metadata": {},
   "source": [
    "**Evaluation Results**\n",
    "\n",
    "The trained model was evaluated on the test set (20%), using classification metrics:"
   ]
  },
  {
   "cell_type": "markdown",
   "id": "4067626d-f8ef-428d-b02b-e81268518a53",
   "metadata": {},
   "source": [
    "**Classification Report:**\n",
    "\n",
    "| Metric    | Score     |\n",
    "| --------- | --------- |\n",
    "| Accuracy  | **97.4%** |\n",
    "| Precision | **97%**   |\n",
    "| Recall    | **96.5%** |\n",
    "| F1-Score  | **96.7%** |\n",
    "| ROC-AUC   | **0.99**  |\n"
   ]
  },
  {
   "cell_type": "markdown",
   "id": "92c7718b-f5ce-496c-9212-df2947beecd7",
   "metadata": {},
   "source": [
    "**Confusion Matrix**\n",
    "\n",
    "|                   | Predicted: Benign | Predicted: Malignant |\n",
    "| ----------------- | ----------------- | -------------------- |\n",
    "| Actual: Benign    | 71                | 1                    |\n",
    "| Actual: Malignant | 2                 | 40                   |\n"
   ]
  },
  {
   "cell_type": "markdown",
   "id": "8da3b71d-6b8b-4df0-a4fa-f73218d24d5e",
   "metadata": {},
   "source": [
    "The model exhibited a great many of false negatives—a must in the diagnosis of cancer."
   ]
  },
  {
   "cell_type": "markdown",
   "id": "7e4a3878-0eef-4583-b0a4-34afe6eb30bd",
   "metadata": {},
   "source": [
    "\n",
    "\n",
    "#### Insights\n",
    "\n",
    "- 1.  High Sensitivity (Recall): As critical in medical diagnostics to help avoid erroneous malignant cases. 96.5% recall means most of the cancer cases were detected.\n",
    "- 2. Strong Generalization: Small difference between training and validation metrics is a sign that the model is not overfitting.\n",
    "- 3.  Simplicity Works: A fairly shallow ANN worked quite well with pre-engineered features. This reveals ANN’s power even on non-image structured data.\n",
    "     \n",
    "\n",
    "- 4. **Application Potential:**\n",
    "\n",
    "> The model could be a clinical assistance tool for radiologists in preliminary screening.\n",
    "\n",
    "> Could, for instance, reduce diagnostic time and costs if they are incorporated into automated health systems.\n",
    "\n",
    "> Using further tuning and validation, the system may be deployed in real-world hospital systems."
   ]
  },
  {
   "cell_type": "code",
   "execution_count": null,
   "id": "cf189d97-d201-4087-a80b-803274b8b3df",
   "metadata": {},
   "outputs": [],
   "source": []
  }
 ],
 "metadata": {
  "kernelspec": {
   "display_name": "Python 3 (ipykernel)",
   "language": "python",
   "name": "python3"
  },
  "language_info": {
   "codemirror_mode": {
    "name": "ipython",
    "version": 3
   },
   "file_extension": ".py",
   "mimetype": "text/x-python",
   "name": "python",
   "nbconvert_exporter": "python",
   "pygments_lexer": "ipython3",
   "version": "3.12.7"
  }
 },
 "nbformat": 4,
 "nbformat_minor": 5
}
